{
  "nbformat": 4,
  "nbformat_minor": 0,
  "metadata": {
    "colab": {
      "name": "ASSIGNMENT-2",
      "provenance": [],
      "collapsed_sections": [],
      "authorship_tag": "ABX9TyNQirAOPo/ZZHNzexIb3n4L",
      "include_colab_link": true
    },
    "kernelspec": {
      "name": "python3",
      "display_name": "Python 3"
    }
  },
  "cells": [
    {
      "cell_type": "markdown",
      "metadata": {
        "id": "view-in-github",
        "colab_type": "text"
      },
      "source": [
        "<a href=\"https://colab.research.google.com/github/SAIPRIYADODDA/Assignment2/blob/master/ASSIGNMENT_2.ipynb\" target=\"_parent\"><img src=\"https://colab.research.google.com/assets/colab-badge.svg\" alt=\"Open In Colab\"/></a>"
      ]
    },
    {
      "cell_type": "markdown",
      "metadata": {
        "id": "Lqb-eIbwd1Cr",
        "colab_type": "text"
      },
      "source": [
        "1.\tArea of Triangle :\n",
        "Given the lengths of three sides of a triangle, calculate the area of the triangle. \n"
      ]
    },
    {
      "cell_type": "code",
      "metadata": {
        "id": "4RRbmSixd4dK",
        "colab_type": "code",
        "colab": {
          "base_uri": "https://localhost:8080/",
          "height": 84
        },
        "outputId": "93e6946e-efd6-45c9-ab51-116e78b42b57"
      },
      "source": [
        "a=int(input(\"enter first side:\"))\n",
        "b=int(input(\"enter second side:\"))\n",
        "c=int(input(\"enter third side:\"))\n",
        "s=(a+b+c)/2\n",
        "area=(s*(s-a)*(s-b)*(s-c))**0.5\n",
        "print(\"The area of the triangle is %0.2f\" %area) "
      ],
      "execution_count": null,
      "outputs": [
        {
          "output_type": "stream",
          "text": [
            "enter first side:4\n",
            "enter second side:6\n",
            "enter third side:8\n",
            "The area of the triangle is 11.62\n"
          ],
          "name": "stdout"
        }
      ]
    },
    {
      "cell_type": "markdown",
      "metadata": {
        "id": "vKfSRue3gDTY",
        "colab_type": "text"
      },
      "source": [
        "2.\tTake a string from end user and check if the value is palindrome or not"
      ]
    },
    {
      "cell_type": "code",
      "metadata": {
        "id": "_FNKfZPPgHxL",
        "colab_type": "code",
        "colab": {
          "base_uri": "https://localhost:8080/",
          "height": 50
        },
        "outputId": "84e35c91-0817-4550-fca8-07de0c7c7d89"
      },
      "source": [
        "s=input(\"Enter a  string : \")\n",
        "slen=len(s)\n",
        "def reverse(s): \n",
        "  str = \"\" \n",
        "  for i in s: \n",
        "    str = i + str\n",
        "  return str\n",
        "if(s==reverse(s)):\n",
        "  print(\"Given string is a palindrome \")\n",
        "else:\n",
        "  print(\"Given string is not  a palindrome \")\n"
      ],
      "execution_count": null,
      "outputs": [
        {
          "output_type": "stream",
          "text": [
            "Enter a  string : mom\n",
            "Given string is a palindrome \n"
          ],
          "name": "stdout"
        }
      ]
    },
    {
      "cell_type": "markdown",
      "metadata": {
        "id": "pECKwhCsik_Y",
        "colab_type": "text"
      },
      "source": [
        "3.\tWrite a program that reads a year from the user and displays a message \n",
        "Indicating whether or not it is a leap year.\n"
      ]
    },
    {
      "cell_type": "code",
      "metadata": {
        "id": "nBx7YGXAjYuq",
        "colab_type": "code",
        "colab": {
          "base_uri": "https://localhost:8080/",
          "height": 50
        },
        "outputId": "50530fa7-30a0-4e5b-9295-63fc4e6a686a"
      },
      "source": [
        "year = int(input(\"Enter Year: \"))\n",
        "if year % 4 == 0 and year % 100 != 0:\n",
        "    print(year, \"is a Leap Year\")\n",
        "elif year % 100 == 0:\n",
        "    print(year, \"is not a Leap Year\")\n",
        "elif year % 400 ==0:\n",
        "    print(year, \"is a Leap Year\")\n"
      ],
      "execution_count": null,
      "outputs": [
        {
          "output_type": "stream",
          "text": [
            "Enter Year: 2020\n",
            "2020 is a Leap Year\n"
          ],
          "name": "stdout"
        }
      ]
    },
    {
      "cell_type": "markdown",
      "metadata": {
        "id": "qj5zfrP0mq8O",
        "colab_type": "text"
      },
      "source": [
        "4.\t Space To Hyphen problem \n",
        "Take a string as input, and replaces spaces “ “  with hyphens “-”, and returns a string.\n",
        "Input: “ This program converts spaces into hyphen”\n",
        "      Output:     “ This-program-converts-spaces-into-hyphen”\n"
      ]
    },
    {
      "cell_type": "code",
      "metadata": {
        "id": "nN1Z81o6nD6V",
        "colab_type": "code",
        "colab": {
          "base_uri": "https://localhost:8080/",
          "height": 50
        },
        "outputId": "d37ea52f-57fb-42d8-bcdd-f06ed9c763f7"
      },
      "source": [
        "str=input(\"Enter a string : \")\n",
        "strlen=len(str)\n",
        "for i in range(0,strlen-1):\n",
        "  if(str[i]==\" \"):\n",
        "    str=str.replace(str[i],'-')\n",
        "print(str)"
      ],
      "execution_count": null,
      "outputs": [
        {
          "output_type": "stream",
          "text": [
            "Enter a string : This program converts spaces into hyphen\n",
            "This-program-converts-spaces-into-hyphen\n"
          ],
          "name": "stdout"
        }
      ]
    },
    {
      "cell_type": "markdown",
      "metadata": {
        "id": "8t9DfUhmsIcp",
        "colab_type": "text"
      },
      "source": [
        "5.\tUnique Sort problem \n",
        "Take a string as input that accepts a comma separated sequence of words as input and prints the unique words in sorted form (alphanumerically).\n",
        "*Input*: orange, white, red, cyan, green, magenta, cyan, pink, white\n",
        "*Output*: cyan, green, magenta, orange, pink, red, white\n"
      ]
    },
    {
      "cell_type": "code",
      "metadata": {
        "id": "nKngJUlKITxt",
        "colab_type": "code",
        "colab": {
          "base_uri": "https://localhost:8080/",
          "height": 50
        },
        "outputId": "7ab7158f-8dba-4fb3-faca-e5c7f0bbd75d"
      },
      "source": [
        "string=input('enter strings with a comma:\\t')\n",
        "st=string.split(',')\n",
        "s=set(st)\n",
        "q=sorted(s)\n",
        "print(q)"
      ],
      "execution_count": null,
      "outputs": [
        {
          "output_type": "stream",
          "text": [
            "enter strings with a comma:\torange,white,red,cyan,green,magneta,cyan,pink,white\n",
            "['cyan', 'green', 'magneta', 'orange', 'pink', 'red', 'white']\n"
          ],
          "name": "stdout"
        }
      ]
    },
    {
      "cell_type": "markdown",
      "metadata": {
        "id": "zxjeqLy_yYmF",
        "colab_type": "text"
      },
      "source": [
        "6.\tTax Calculator\n",
        "Ask the user for their monthly salary. Calculate whether they have to pay tax and if so, how much is that amount .Print the result\n",
        " \n"
      ]
    },
    {
      "cell_type": "code",
      "metadata": {
        "id": "ks60f8kbycMW",
        "colab_type": "code",
        "colab": {
          "base_uri": "https://localhost:8080/",
          "height": 50
        },
        "outputId": "bfde2b5c-840a-4277-8ace-ec22036ea6ee"
      },
      "source": [
        "salary=int(input(\"Enter your monthly salary : \"))\n",
        "if(salary<=250000):\n",
        "  tax=0\n",
        "  print(\"No Tax \")\n",
        "elif(salary>=250001 or salary<500000):\n",
        "  tax=salary*0.05\n",
        "  print(\"Tax is \",tax)\n",
        "elif(salary>=500001 or salary<750000):\n",
        "  tax=salary*0.1\n",
        "  print(\"Tax is \",tax)\n",
        "elif(salary>=750001 or salary<1000000):\n",
        "  tax=salary*0.15\n",
        "  print(\"Tax is \",tax)\n",
        "elif(salary>=1000001 or salary<1250000):\n",
        "  tax=salary*0.2\n",
        "  print(\"Tax is \",tax)\n",
        "elif(salary>=1250001 or salary<1500000):\n",
        "  tax=salary*0.25\n",
        "  print(\"Tax is \",tax)\n",
        "elif(salary>1500000):\n",
        "  tax=salary*0.3\n",
        "  print(\"Tax is \",tax)"
      ],
      "execution_count": null,
      "outputs": [
        {
          "output_type": "stream",
          "text": [
            "Enter your monthly salary : 250000\n",
            "No Tax \n"
          ],
          "name": "stdout"
        }
      ]
    },
    {
      "cell_type": "markdown",
      "metadata": {
        "id": "mZbbsnIno6i5",
        "colab_type": "text"
      },
      "source": [
        "7.\tTake a list of integers as an argument, and converts it into a single integer (return the integer).\n",
        "*Input*: [11, 33, 50]\n",
        "*Output*: 113350\n"
      ]
    },
    {
      "cell_type": "code",
      "metadata": {
        "id": "Cqq5HW1jx1Wp",
        "colab_type": "code",
        "colab": {
          "base_uri": "https://localhost:8080/",
          "height": 34
        },
        "outputId": "8a14a589-3860-4edc-8613-58dfc89a26c2"
      },
      "source": [
        "l=[11,33,50]\n",
        "for i in l:\n",
        "  print(i,end=\"\")"
      ],
      "execution_count": null,
      "outputs": [
        {
          "output_type": "stream",
          "text": [
            "113350"
          ],
          "name": "stdout"
        }
      ]
    },
    {
      "cell_type": "markdown",
      "metadata": {
        "id": "sUa7FyPkp0Ih",
        "colab_type": "text"
      },
      "source": [
        "8.\tUnits of Time\n",
        "Create a program that reads duration from the user as a number of days, hours, minutes, and seconds. Compute and display the total number of seconds represented by this duration. \n"
      ]
    },
    {
      "cell_type": "code",
      "metadata": {
        "id": "yeJkOv6mqDVd",
        "colab_type": "code",
        "colab": {
          "base_uri": "https://localhost:8080/",
          "height": 101
        },
        "outputId": "9c1ced78-6539-44a0-bee2-e32c6cc09292"
      },
      "source": [
        "days=int(input(\"Enter no.of days : \"))\n",
        "hours=int(input(\"Enter no.of hours : \"))\n",
        "min=int(input(\"Enter no.of minutes : \"))\n",
        "sec=int(input(\"Enter no.of secs : \"))\n",
        "tos=(days*24)\n",
        "tos=(tos+hours)*60\n",
        "tos=(tos+min)*60\n",
        "tos=tos+sec\n",
        "print(\"Entered duration {0} days {1} hours {2} min {3} sec is {4} seconds  \".format(days,hours,min,sec,tos))"
      ],
      "execution_count": null,
      "outputs": [
        {
          "output_type": "stream",
          "text": [
            "Enter no.of days : 5\n",
            "Enter no.of hours : 10\n",
            "Enter no.of minutes : 10\n",
            "Enter no.of secs : 10\n",
            "Entered duration 5 days 10 hours 10 min 10 sec is 468610 seconds  \n"
          ],
          "name": "stdout"
        }
      ]
    },
    {
      "cell_type": "markdown",
      "metadata": {
        "id": "X2ektoty8DhS",
        "colab_type": "text"
      },
      "source": [
        "9.\tSort 3 Integers\n",
        "Given three integers (given through user input), sort the numbers using |min| and  |max| functions.\n"
      ]
    },
    {
      "cell_type": "code",
      "metadata": {
        "id": "2EuzKAAZn7cV",
        "colab_type": "code",
        "colab": {
          "base_uri": "https://localhost:8080/",
          "height": 101
        },
        "outputId": "86cb8776-804a-4fc4-ccc6-a08a4649e9d1"
      },
      "source": [
        " a=int(input(\"Enter first number \"))\n",
        " b=int(input(\"Enter second number \"))\n",
        " c=int(input(\"Enter third number \"))\n",
        " def max(a,b,c):\n",
        "  if(a>b and a>c):\n",
        "    if(b>c):\n",
        "     return a,b,c\n",
        "    else:\n",
        "       return a,c,b\n",
        "  elif(b>a and b>c):\n",
        "    if(a>c):\n",
        "      return b,a,c\n",
        "    else:\n",
        "      return b,c,a\n",
        "  elif(c>a and c>b):\n",
        "    if(a>b):\n",
        "      return c,a,b\n",
        "    else:\n",
        "      return c,b,a\n",
        "def min(a,b,c):\n",
        "  if(a<b and a<c):\n",
        "    if(b<c):\n",
        "      return a,b,c\n",
        "    else:\n",
        "      return a,c,b\n",
        "  elif(b<a and b<c):\n",
        "    if(a<c):\n",
        "      return b,a,c\n",
        "    else:\n",
        "      return b,c,a\n",
        "  elif(c<a and c<b):\n",
        "    if(a<b):\n",
        "      return c,a,b\n",
        "    else:\n",
        "      return c,b,a\n",
        "x=max(a,b,c)\n",
        "print(\"The decreasing order of {0} {1} {2} is {3}\".format(a,b,c,x))\n",
        "y=min(a,b,c)\n",
        "print(\"The increasing order of {0} {1} {2} is {3}\".format(a,b,c,y))\n"
      ],
      "execution_count": null,
      "outputs": [
        {
          "output_type": "stream",
          "text": [
            "Enter first number 10\n",
            "Enter second number 25\n",
            "Enter third number 5\n",
            "The decreasing order of 10 25 5 is (25, 10, 5)\n",
            "The increasing order of 10 25 5 is (5, 10, 25)\n"
          ],
          "name": "stdout"
        }
      ]
    },
    {
      "cell_type": "markdown",
      "metadata": {
        "id": "I0KbFTw68NGU",
        "colab_type": "text"
      },
      "source": [
        "10.\tWrite a program that reads a date from the user and computes its immediate successor. The date is the format YYYY-MM-DD. So, 2020-04-15 will have the successor 2020-04-16."
      ]
    },
    {
      "cell_type": "code",
      "metadata": {
        "id": "POchtrr-NrB4",
        "colab_type": "code",
        "colab": {
          "base_uri": "https://localhost:8080/",
          "height": 84
        },
        "outputId": "ae73276d-d4ae-4cf5-ca79-d33c6cb96439"
      },
      "source": [
        "y=int(input(\"ENTER THE YEAR : \"))\n",
        "m=int(input(\"ENTER THE MONTH : \"))\n",
        "d=int(input(\"ENTER THE DAY : \"))\n",
        "if ((y % 4 == 0) and (y % 100!= 0)) or (y%400 == 0):\n",
        "\n",
        "    if m==2:\n",
        "\n",
        "        d1=29\n",
        "\n",
        "    elif m==1 or m==3 or m==5 or m==7 or m==8 or m==10 or m==12:\n",
        "\n",
        "        d1=31\n",
        "\n",
        "    else :\n",
        "\n",
        "        d1=30\n",
        "\n",
        "else:\n",
        "\n",
        "    if m==2:\n",
        "\n",
        "        d1=28\n",
        "\n",
        "    elif m==1 or m==3 or m==5 or m==7 or m==8 or m==10 or m==12:\n",
        "\n",
        "        d1=31\n",
        "\n",
        "    else :\n",
        "\n",
        "        d1=30\n",
        "\n",
        "if d==31 and m==12 :\n",
        "\n",
        "    d=1\n",
        "\n",
        "    m=1\n",
        "\n",
        "    y=y+1   \n",
        "\n",
        "elif d1-d==0 :\n",
        "\n",
        "    m=m+1\n",
        "\n",
        "    d=1\n",
        "\n",
        "else:\n",
        "\n",
        "    d=d+1\n",
        "print(\"Successor day is  : \",y,\"-\",m,\"-\",d)\n"
      ],
      "execution_count": null,
      "outputs": [
        {
          "output_type": "stream",
          "text": [
            "ENTER THE YEAR : 2020\n",
            "ENTER THE MONTH : 04\n",
            "ENTER THE DAY : 15\n",
            "Successor day is  :  2020 - 4 - 16\n"
          ],
          "name": "stdout"
        }
      ]
    },
    {
      "cell_type": "markdown",
      "metadata": {
        "id": "itYB3t5F8eZ4",
        "colab_type": "text"
      },
      "source": [
        "11.\tCompute product of a list of numbers [45 ,3,2,89,72,1,10,7]\n",
        "Output: 121111200\n"
      ]
    },
    {
      "cell_type": "code",
      "metadata": {
        "id": "YQxDX1OT8hmL",
        "colab_type": "code",
        "colab": {
          "base_uri": "https://localhost:8080/",
          "height": 34
        },
        "outputId": "21d0cbf4-b5e2-4dc2-b08c-129a9bb35dc7"
      },
      "source": [
        "l=[45,3,2,89,72,1,10,7]\n",
        "product=1\n",
        "for i in range(0,len(l)):\n",
        "  product=product*l[i]\n",
        "print(product)"
      ],
      "execution_count": null,
      "outputs": [
        {
          "output_type": "stream",
          "text": [
            "121111200\n"
          ],
          "name": "stdout"
        }
      ]
    },
    {
      "cell_type": "markdown",
      "metadata": {
        "id": "QDAdCY0w98Pa",
        "colab_type": "text"
      },
      "source": [
        "12.\tCompute given Num_list =  [5, 6,8 ,34,89,1] to get desired output\n",
        "Output: Out_list=[11,14,42,123,90]\n"
      ]
    },
    {
      "cell_type": "code",
      "metadata": {
        "id": "J5taYdlHMVqu",
        "colab_type": "code",
        "colab": {
          "base_uri": "https://localhost:8080/",
          "height": 34
        },
        "outputId": "bd319bee-59ff-4428-e05d-748f98db2d86"
      },
      "source": [
        "l=[5,6,8,34,89,1]\n",
        "n=[0]\n",
        "sum=0\n",
        "c=0\n",
        "le=len(l)\n",
        "for i in range(1,le):\n",
        "  if i<le:\n",
        "    sum=l[i-1]+l[i]\n",
        "    if n[0]==0:\n",
        "      n[0]=sum\n",
        "    else:\n",
        "      n.append(sum)\n",
        "print(n)"
      ],
      "execution_count": null,
      "outputs": [
        {
          "output_type": "stream",
          "text": [
            "[11, 14, 42, 123, 90]\n"
          ],
          "name": "stdout"
        }
      ]
    },
    {
      "cell_type": "markdown",
      "metadata": {
        "id": "7TJ4Vz9e41EB",
        "colab_type": "text"
      },
      "source": [
        "13.\t Compute given Num_tuple =  (5, 6,8 ,3,9,1) to get desired output\n",
        "Output: Out_list = [5, 30, 240, 720, 6480, 6480]\n"
      ]
    },
    {
      "cell_type": "code",
      "metadata": {
        "id": "TUXaWYsFMbww",
        "colab_type": "code",
        "colab": {
          "base_uri": "https://localhost:8080/",
          "height": 34
        },
        "outputId": "4ef21ca4-2083-47d2-ea94-400e62f15183"
      },
      "source": [
        "tup=(5,6,8,3,9,1)\n",
        "mul=1\n",
        "l=[0]\n",
        "for i in tup:\n",
        "  mul=mul*i\n",
        "  n=mul\n",
        "  if l[0]==0:\n",
        "    l[0]=n\n",
        "  else:\n",
        "    l.append(mul)\n",
        "print(l)"
      ],
      "execution_count": null,
      "outputs": [
        {
          "output_type": "stream",
          "text": [
            "[5, 30, 240, 720, 6480, 6480]\n"
          ],
          "name": "stdout"
        }
      ]
    },
    {
      "cell_type": "markdown",
      "metadata": {
        "id": "Ps__3ZCEt2GP",
        "colab_type": "text"
      },
      "source": [
        "14.\t Write a Python code that takes a number and returns a list of its digits. So for 586392 it should return [5,8,6,3,9,2]"
      ]
    },
    {
      "cell_type": "code",
      "metadata": {
        "id": "gG2oifIUMzW0",
        "colab_type": "code",
        "colab": {
          "base_uri": "https://localhost:8080/",
          "height": 50
        },
        "outputId": "5d185bec-650c-4864-ede7-504a4c72987c"
      },
      "source": [
        "n=int(input('Enter  a number:\\t'))\n",
        "k=str(n)\n",
        "l=list(k)\n",
        "j=[0]\n",
        "for i in l:\n",
        "  li=int(i)\n",
        "  if j[0]==0:\n",
        "    j[0]=li\n",
        "  else:\n",
        "    j.append(li)\n",
        "print(j)"
      ],
      "execution_count": null,
      "outputs": [
        {
          "output_type": "stream",
          "text": [
            "Enter  a number:\t586392\n",
            "[5, 8, 6, 3, 9, 2]\n"
          ],
          "name": "stdout"
        }
      ]
    },
    {
      "cell_type": "markdown",
      "metadata": {
        "id": "IAnwZaFM8iUI",
        "colab_type": "text"
      },
      "source": [
        "15.\tWrite a program that finds the longest palindromic substring of a given string"
      ]
    },
    {
      "cell_type": "code",
      "metadata": {
        "id": "7Rs6fH3XbKJ_",
        "colab_type": "code",
        "colab": {
          "base_uri": "https://localhost:8080/",
          "height": 84
        },
        "outputId": "94418e57-c3ca-412e-8abb-2f5e62f0672c"
      },
      "source": [
        "def longestPalSubstr(string): \n",
        "    maxLength = 1\n",
        "    start = 0\n",
        "    length = len(string) \n",
        "    low = 0\n",
        "    high = 0\n",
        "     \n",
        "    for i in  range(1, length): \n",
        "        \n",
        "        low = i - 1\n",
        "        high = i \n",
        "        while low >= 0 and high < length and string[low] == string[high]: \n",
        "            if high - low + 1 > maxLength: \n",
        "                start = low \n",
        "                maxLength = high - low + 1\n",
        "            low -= 1\n",
        "            high += 1\n",
        "  \n",
        "        low = i - 1\n",
        "        high = i + 1\n",
        "        while low >= 0 and high < length and string[low] == string[high]: \n",
        "            if high - low + 1 > maxLength: \n",
        "                start = low \n",
        "                maxLength = high - low + 1\n",
        "            low -= 1\n",
        "            high += 1\n",
        "  \n",
        "    print (\"Longest palindrome substring is:\", )\n",
        "    print (string[start:start + maxLength] )\n",
        "  \n",
        "    return maxLength \n",
        "   \n",
        "string = input(\"Enter a string : \")\n",
        "print (\"Length is: \" + str(longestPalSubstr(string)))"
      ],
      "execution_count": 3,
      "outputs": [
        {
          "output_type": "stream",
          "text": [
            "Enter a string : statue\n",
            "Longest palindrome substring is:\n",
            "tat\n",
            "Length is: 3\n"
          ],
          "name": "stdout"
        }
      ]
    },
    {
      "cell_type": "markdown",
      "metadata": {
        "id": "sl-x1KHiyoOG",
        "colab_type": "text"
      },
      "source": [
        "16.\t Substring Check (Bug Funny)\n",
        "Given two binary strings, A (of length 10) and B (of length 5), output 1 if B is a substring of A and 0 otherwise.\n",
        "First two lines of input:\n",
        "\n",
        "1010110010          10110\n",
        "1110111011           10011\n",
        "First two lines of output:\n",
        "1\n",
        "0\n"
      ]
    },
    {
      "cell_type": "code",
      "metadata": {
        "id": "yXJAVrpDyp5k",
        "colab_type": "code",
        "colab": {
          "base_uri": "https://localhost:8080/",
          "height": 118
        },
        "outputId": "36aedb9a-37a7-4c89-e306-efd022b7135a"
      },
      "source": [
        "a=input(\"enter first binary string : \")\n",
        "b=input(\"enter first substring to check : \")\n",
        "a1=input(\"enter second binary string : \")\n",
        "b1=input(\"enter second substring to check : \")\n",
        "while ( b in a ):\n",
        "  print(\"1\")\n",
        "  break\n",
        "while ( b1 in a1 ):\n",
        "  print(\"1\")\n",
        "  break\n",
        "while (b not in a ):\n",
        "  print(\"0\")\n",
        "  break\n",
        "while ( b1 not in a1):\n",
        "  print(\"0\")\n",
        "  break"
      ],
      "execution_count": 4,
      "outputs": [
        {
          "output_type": "stream",
          "text": [
            "enter first binary string : 1010110010\n",
            "enter first substring to check : 10110\n",
            "enter second binary string : 1110111011\n",
            "enter second substring to check : 10011\n",
            "1\n",
            "0\n"
          ],
          "name": "stdout"
        }
      ]
    },
    {
      "cell_type": "markdown",
      "metadata": {
        "id": "_sDXJA6m2Pj9",
        "colab_type": "text"
      },
      "source": [
        "17.\t  POUR1 - Pouring water\n",
        "Given two vessels, one of which can accommodate a litres of water and the other - b litres of water, determine the number of steps required to obtain exactly c litres of water in one of the vessels.\n",
        "At the beginning both vessels are empty. The following operations are counted as 'steps':\n",
        "•\temptying a vessel,\n",
        "•\tfilling a vessel,\n",
        "•\tpouring water from one vessel to the other, without spilling, until one of the vessels is either full or empty.\n",
        "Input\n",
        "An integer t, 1<=t<=100, denoting the number of testcases , followed by t sets of input data, each consisting of three positive integers a, b, c, not larger than 40000, given in separate lines.\n",
        "Output\n",
        "For each set of input data, output the minimum number of steps required to obtain c litres, or -1 if this is impossible.\n"
      ]
    },
    {
      "cell_type": "code",
      "metadata": {
        "id": "03oCXwVG2TtV",
        "colab_type": "code",
        "colab": {
          "base_uri": "https://localhost:8080/",
          "height": 168
        },
        "outputId": "3d43591b-66dc-43d7-fa1b-7fb3ec531dbf"
      },
      "source": [
        "def gcd(a,b):\n",
        "    if b==0: \n",
        "        return a \n",
        "    return gcd(b,a%b) \n",
        "def countsteps(a,b,c): \n",
        "    v1=b\n",
        "    v2=0\n",
        "    count=1\n",
        "    while ((v1 is not c) and (v2 is not c)): \n",
        "        temp=min(v1,a-v2) \n",
        "        v2=v2+temp \n",
        "        v1=v1-temp \n",
        "        count=count+1\n",
        "        if ((v2==c)or(v1==c)): \n",
        "            break\n",
        "        if v1==0: \n",
        "            v1=b \n",
        "            count=count+1\n",
        "        if v2==a: \n",
        "            v2=0\n",
        "            count=count+1\n",
        "    return count \n",
        "def ispossible(a,b,c): \n",
        "    if a>b: \n",
        "        temp=a \n",
        "        a=b \n",
        "        b=temp \n",
        "    if c>b: \n",
        "        return -1\n",
        "    if (c%(gcd(b,a)) is not 0): \n",
        "        return -1\n",
        "    return(min(countsteps(b,a,c),countsteps(a,b,c)))\n",
        "t=int(input(\"Enter no of testcases : \"))\n",
        "for i in range(t):\n",
        "  a=int(input(\"Enter capacity of vessel a : \"))\n",
        "  b=int(input(\"Enter capacity of vessel b : \"))\n",
        "  c=int(input(\"Enter capacity to be obtained :\"))\n",
        "  print(\"Minimum number of steps required is : \",ispossible(a,b,c))"
      ],
      "execution_count": 1,
      "outputs": [
        {
          "output_type": "stream",
          "text": [
            "Enter no of testcases : 2\n",
            "Enter capacity of vessel a : 5\n",
            "Enter capacity of vessel b : 2\n",
            "Enter capacity to be obtained :3\n",
            "Minimum number of steps required is :  2\n",
            "Enter capacity of vessel a : 2\n",
            "Enter capacity of vessel b : 3\n",
            "Enter capacity to be obtained :4\n",
            "Minimum number of steps required is :  -1\n"
          ],
          "name": "stdout"
        }
      ]
    }
  ]
}